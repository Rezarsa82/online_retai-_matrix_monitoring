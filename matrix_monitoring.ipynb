{
  "nbformat": 4,
  "nbformat_minor": 0,
  "metadata": {
    "colab": {
      "provenance": [],
      "authorship_tag": "ABX9TyOFKuEAoVPRnmUtJagaDSKg",
      "include_colab_link": true
    },
    "kernelspec": {
      "name": "python3",
      "display_name": "Python 3"
    },
    "language_info": {
      "name": "python"
    }
  },
  "cells": [
    {
      "cell_type": "markdown",
      "metadata": {
        "id": "view-in-github",
        "colab_type": "text"
      },
      "source": [
        "<a href=\"https://colab.research.google.com/github/Rezarsa82/online_retai-_matrix_monitoring/blob/main/matrix_monitoring.ipynb\" target=\"_parent\"><img src=\"https://colab.research.google.com/assets/colab-badge.svg\" alt=\"Open In Colab\"/></a>"
      ]
    },
    {
      "cell_type": "code",
      "execution_count": 1,
      "metadata": {
        "colab": {
          "base_uri": "https://localhost:8080/"
        },
        "id": "nw8DAQecSCkn",
        "outputId": "c78a41b5-94dc-4647-aa89-362bd44b6e51"
      },
      "outputs": [
        {
          "output_type": "stream",
          "name": "stdout",
          "text": [
            "Collecting ucimlrepo\n",
            "  Downloading ucimlrepo-0.0.7-py3-none-any.whl.metadata (5.5 kB)\n",
            "Requirement already satisfied: pandas>=1.0.0 in /usr/local/lib/python3.12/dist-packages (from ucimlrepo) (2.2.2)\n",
            "Requirement already satisfied: certifi>=2020.12.5 in /usr/local/lib/python3.12/dist-packages (from ucimlrepo) (2025.10.5)\n",
            "Requirement already satisfied: numpy>=1.26.0 in /usr/local/lib/python3.12/dist-packages (from pandas>=1.0.0->ucimlrepo) (2.0.2)\n",
            "Requirement already satisfied: python-dateutil>=2.8.2 in /usr/local/lib/python3.12/dist-packages (from pandas>=1.0.0->ucimlrepo) (2.9.0.post0)\n",
            "Requirement already satisfied: pytz>=2020.1 in /usr/local/lib/python3.12/dist-packages (from pandas>=1.0.0->ucimlrepo) (2025.2)\n",
            "Requirement already satisfied: tzdata>=2022.7 in /usr/local/lib/python3.12/dist-packages (from pandas>=1.0.0->ucimlrepo) (2025.2)\n",
            "Requirement already satisfied: six>=1.5 in /usr/local/lib/python3.12/dist-packages (from python-dateutil>=2.8.2->pandas>=1.0.0->ucimlrepo) (1.17.0)\n",
            "Downloading ucimlrepo-0.0.7-py3-none-any.whl (8.0 kB)\n",
            "Installing collected packages: ucimlrepo\n",
            "Successfully installed ucimlrepo-0.0.7\n"
          ]
        }
      ],
      "source": [
        "pip install ucimlrepo"
      ]
    },
    {
      "cell_type": "code",
      "source": [
        "from ucimlrepo import fetch_ucirepo\n",
        "\n",
        "# fetch dataset\n",
        "online_retail = fetch_ucirepo(id=352)\n",
        "\n",
        "# data (as pandas dataframes)\n",
        "X = online_retail.data.features\n",
        "y = online_retail.data.targets\n",
        "\n",
        "# metadata\n",
        "print(online_retail.metadata)\n",
        "\n",
        "# variable information\n",
        "print(online_retail.variables)\n"
      ],
      "metadata": {
        "colab": {
          "base_uri": "https://localhost:8080/"
        },
        "id": "5c79EeYKTGNI",
        "outputId": "db0ce5ce-b0cc-45cf-91e7-e91541bca1d4"
      },
      "execution_count": 2,
      "outputs": [
        {
          "output_type": "stream",
          "name": "stdout",
          "text": [
            "{'uci_id': 352, 'name': 'Online Retail', 'repository_url': 'https://archive.ics.uci.edu/dataset/352/online+retail', 'data_url': 'https://archive.ics.uci.edu/static/public/352/data.csv', 'abstract': 'This is a transactional data set which contains all the transactions occurring between 01/12/2010 and 09/12/2011 for a UK-based and registered non-store online retail.', 'area': 'Business', 'tasks': ['Classification', 'Clustering'], 'characteristics': ['Multivariate', 'Sequential', 'Time-Series'], 'num_instances': 541909, 'num_features': 6, 'feature_types': ['Integer', 'Real'], 'demographics': [], 'target_col': None, 'index_col': ['InvoiceNo', 'StockCode'], 'has_missing_values': 'no', 'missing_values_symbol': None, 'year_of_dataset_creation': 2015, 'last_updated': 'Mon Oct 21 2024', 'dataset_doi': '10.24432/C5BW33', 'creators': ['Daqing Chen'], 'intro_paper': {'ID': 361, 'type': 'NATIVE', 'title': 'Data mining for the online retail industry: A case study of RFM model-based customer segmentation using data mining', 'authors': 'Daqing Chen, Sai Laing Sain, Kun Guo', 'venue': 'Journal of Database Marketing and Customer Strategy Management, Vol. 19, No. 3', 'year': 2012, 'journal': None, 'DOI': '10.1057/dbm.2012.17', 'URL': 'https://www.semanticscholar.org/paper/e43a5a90fa33d419df42e485099f8f08badf2149', 'sha': None, 'corpus': None, 'arxiv': None, 'mag': None, 'acl': None, 'pmid': None, 'pmcid': None}, 'additional_info': {'summary': 'This is a transactional data set which contains all the transactions occurring between 01/12/2010 and 09/12/2011 for a UK-based and registered non-store online retail.The company mainly sells unique all-occasion gifts. Many customers of the company are wholesalers.', 'purpose': None, 'funded_by': None, 'instances_represent': None, 'recommended_data_splits': None, 'sensitive_data': None, 'preprocessing_description': None, 'variable_info': \"InvoiceNo: Invoice number. Nominal, a 6-digit integral number uniquely assigned to each transaction. If this code starts with letter 'c', it indicates a cancellation. \\nStockCode: Product (item) code. Nominal, a 5-digit integral number uniquely assigned to each distinct product.\\nDescription: Product (item) name. Nominal.\\nQuantity: The quantities of each product (item) per transaction. Numeric.\\t\\nInvoiceDate: Invoice Date and time. Numeric, the day and time when each transaction was generated.\\nUnitPrice: Unit price. Numeric, Product price per unit in sterling.\\nCustomerID: Customer number. Nominal, a 5-digit integral number uniquely assigned to each customer.\\nCountry: Country name. Nominal, the name of the country where each customer resides. \", 'citation': None}}\n",
            "          name     role         type demographic  \\\n",
            "0    InvoiceNo       ID  Categorical        None   \n",
            "1    StockCode       ID  Categorical        None   \n",
            "2  Description  Feature  Categorical        None   \n",
            "3     Quantity  Feature      Integer        None   \n",
            "4  InvoiceDate  Feature         Date        None   \n",
            "5    UnitPrice  Feature   Continuous        None   \n",
            "6   CustomerID  Feature  Categorical        None   \n",
            "7      Country  Feature  Categorical        None   \n",
            "\n",
            "                                         description     units missing_values  \n",
            "0  a 6-digit integral number uniquely assigned to...      None             no  \n",
            "1  a 5-digit integral number uniquely assigned to...      None             no  \n",
            "2                                       product name      None             no  \n",
            "3  the quantities of each product (item) per tran...      None             no  \n",
            "4  the day and time when each transaction was gen...      None             no  \n",
            "5                             product price per unit  sterling             no  \n",
            "6  a 5-digit integral number uniquely assigned to...      None             no  \n",
            "7  the name of the country where each customer re...      None             no  \n"
          ]
        }
      ]
    },
    {
      "cell_type": "code",
      "source": [],
      "metadata": {
        "id": "IxFbgLAETLgM"
      },
      "execution_count": null,
      "outputs": []
    }
  ]
}