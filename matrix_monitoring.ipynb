{
  "nbformat": 4,
  "nbformat_minor": 0,
  "metadata": {
    "colab": {
      "provenance": [],
      "authorship_tag": "ABX9TyMmSIXo5nTS0R2AMUXigxJW",
      "include_colab_link": true
    },
    "kernelspec": {
      "name": "python3",
      "display_name": "Python 3"
    },
    "language_info": {
      "name": "python"
    }
  },
  "cells": [
    {
      "cell_type": "markdown",
      "metadata": {
        "id": "view-in-github",
        "colab_type": "text"
      },
      "source": [
        "<a href=\"https://colab.research.google.com/github/Rezarsa82/online_retai-_matrix_monitoring/blob/main/matrix_monitoring.ipynb\" target=\"_parent\"><img src=\"https://colab.research.google.com/assets/colab-badge.svg\" alt=\"Open In Colab\"/></a>"
      ]
    },
    {
      "cell_type": "code",
      "source": [
        "import pandas as pd\n",
        "import zipfile\n",
        "import requests\n",
        "from io import BytesIO\n",
        "\n",
        "url = \"https://archive.ics.uci.edu/static/public/352/online+retail.zip\"\n",
        "\n",
        "r = requests.get(url)\n",
        "zip_file = zipfile.ZipFile(BytesIO(r.content))\n",
        "\n",
        "print(zip_file.namelist())  # ['Online Retail.xlsx']\n",
        "\n",
        "excel_file = zip_file.open(\"Online Retail.xlsx\")\n",
        "df = pd.read_excel(excel_file)\n",
        "\n",
        "print(df.columns)\n",
        "print(df.head())\n"
      ],
      "metadata": {
        "colab": {
          "base_uri": "https://localhost:8080/"
        },
        "id": "gm4ZMoschEQX",
        "outputId": "b6a2865f-3246-400f-f36b-a720116b2112"
      },
      "execution_count": 36,
      "outputs": [
        {
          "output_type": "stream",
          "name": "stdout",
          "text": [
            "['Online Retail.xlsx']\n",
            "Index(['InvoiceNo', 'StockCode', 'Description', 'Quantity', 'InvoiceDate',\n",
            "       'UnitPrice', 'CustomerID', 'Country'],\n",
            "      dtype='object')\n",
            "  InvoiceNo StockCode                          Description  Quantity  \\\n",
            "0    536365    85123A   WHITE HANGING HEART T-LIGHT HOLDER         6   \n",
            "1    536365     71053                  WHITE METAL LANTERN         6   \n",
            "2    536365    84406B       CREAM CUPID HEARTS COAT HANGER         8   \n",
            "3    536365    84029G  KNITTED UNION FLAG HOT WATER BOTTLE         6   \n",
            "4    536365    84029E       RED WOOLLY HOTTIE WHITE HEART.         6   \n",
            "\n",
            "          InvoiceDate  UnitPrice  CustomerID         Country  \n",
            "0 2010-12-01 08:26:00       2.55     17850.0  United Kingdom  \n",
            "1 2010-12-01 08:26:00       3.39     17850.0  United Kingdom  \n",
            "2 2010-12-01 08:26:00       2.75     17850.0  United Kingdom  \n",
            "3 2010-12-01 08:26:00       3.39     17850.0  United Kingdom  \n",
            "4 2010-12-01 08:26:00       3.39     17850.0  United Kingdom  \n"
          ]
        }
      ]
    },
    {
      "cell_type": "code",
      "source": [
        "df = df.dropna()\n",
        "print(df.isna().sum())"
      ],
      "metadata": {
        "colab": {
          "base_uri": "https://localhost:8080/"
        },
        "id": "-XX3Kngiiqaw",
        "outputId": "839f03f7-af4c-4ce0-b6bd-28a64523d862"
      },
      "execution_count": 41,
      "outputs": [
        {
          "output_type": "stream",
          "name": "stdout",
          "text": [
            "InvoiceNo      0\n",
            "StockCode      0\n",
            "Description    0\n",
            "Quantity       0\n",
            "InvoiceDate    0\n",
            "UnitPrice      0\n",
            "CustomerID     0\n",
            "Country        0\n",
            "dtype: int64\n",
            "InvoiceNo      0\n",
            "StockCode      0\n",
            "Description    0\n",
            "Quantity       0\n",
            "InvoiceDate    0\n",
            "UnitPrice      0\n",
            "CustomerID     0\n",
            "Country        0\n",
            "dtype: int64\n"
          ]
        }
      ]
    },
    {
      "cell_type": "code",
      "source": [
        "df = df[df[\"Quantity\"] > 0]\n",
        "print((df[\"Quantity\"] <= 0).sum())\n",
        "num_cancelled = df[df[\"InvoiceNo\"].astype(str).str.startswith(\"C\")].shape[0]\n",
        "print(\"تعداد فاکتورهای بازگشتی:\", num_cancelled)"
      ],
      "metadata": {
        "colab": {
          "base_uri": "https://localhost:8080/"
        },
        "id": "eLDv2mEWjNq6",
        "outputId": "c908bd69-3787-48b9-8030-ae022d45e882"
      },
      "execution_count": 46,
      "outputs": [
        {
          "output_type": "stream",
          "name": "stdout",
          "text": [
            "0\n",
            "تعداد فاکتورهای بازگشتی: 0\n"
          ]
        }
      ]
    },
    {
      "cell_type": "code",
      "source": [
        "item_transaction_matrix = df.groupby(['InvoiceNo', 'StockCode'])['Quantity'].sum().unstack().fillna(0)\n",
        "\n",
        "item_transaction_matrix[item_transaction_matrix > 0] = 1\n",
        "\n",
        "print(item_transaction_matrix.head())"
      ],
      "metadata": {
        "colab": {
          "base_uri": "https://localhost:8080/"
        },
        "id": "X7d0xIs7jmZU",
        "outputId": "c2aa8849-f9d2-4d27-97be-3dbc949f7513"
      },
      "execution_count": 52,
      "outputs": [
        {
          "output_type": "stream",
          "name": "stdout",
          "text": [
            "StockCode  10002  10080  10120  10125  10133  10135  11001  15030  15034  \\\n",
            "InvoiceNo                                                                  \n",
            "536365       0.0    0.0    0.0    0.0    0.0    0.0    0.0    0.0    0.0   \n",
            "536366       0.0    0.0    0.0    0.0    0.0    0.0    0.0    0.0    0.0   \n",
            "536367       0.0    0.0    0.0    0.0    0.0    0.0    0.0    0.0    0.0   \n",
            "536368       0.0    0.0    0.0    0.0    0.0    0.0    0.0    0.0    0.0   \n",
            "536369       0.0    0.0    0.0    0.0    0.0    0.0    0.0    0.0    0.0   \n",
            "\n",
            "StockCode  15036  ...  90214V  90214W  90214Y  90214Z  BANK CHARGES   C2  DOT  \\\n",
            "InvoiceNo         ...                                                           \n",
            "536365       0.0  ...     0.0     0.0     0.0     0.0           0.0  0.0  0.0   \n",
            "536366       0.0  ...     0.0     0.0     0.0     0.0           0.0  0.0  0.0   \n",
            "536367       0.0  ...     0.0     0.0     0.0     0.0           0.0  0.0  0.0   \n",
            "536368       0.0  ...     0.0     0.0     0.0     0.0           0.0  0.0  0.0   \n",
            "536369       0.0  ...     0.0     0.0     0.0     0.0           0.0  0.0  0.0   \n",
            "\n",
            "StockCode    M  PADS  POST  \n",
            "InvoiceNo                   \n",
            "536365     0.0   0.0   0.0  \n",
            "536366     0.0   0.0   0.0  \n",
            "536367     0.0   0.0   0.0  \n",
            "536368     0.0   0.0   0.0  \n",
            "536369     0.0   0.0   0.0  \n",
            "\n",
            "[5 rows x 3665 columns]\n"
          ]
        }
      ]
    },
    {
      "cell_type": "code",
      "source": [
        "import random\n",
        "\n",
        "random_invoices = random.sample(list(item_transaction_matrix.index), 5)\n",
        "\n",
        "for invoice in random_invoices:\n",
        "    purchased_items = item_transaction_matrix.loc[invoice][item_transaction_matrix.loc[invoice] == 1]\n",
        "    print(f\"فاکتور {invoice}: {len(purchased_items)} کالا خریداری شده\")\n",
        "    if len(purchased_items) > 0:\n",
        "        print(f\"   نمونه کالاها: {list(purchased_items.index[:3])}\")"
      ],
      "metadata": {
        "colab": {
          "base_uri": "https://localhost:8080/"
        },
        "id": "CXT7PAB5mqXk",
        "outputId": "457ff817-980d-4dbe-df0f-7a853ff1e79a"
      },
      "execution_count": 53,
      "outputs": [
        {
          "output_type": "stream",
          "name": "stdout",
          "text": [
            "فاکتور 566621: 18 کالا خریداری شده\n",
            "   نمونه کالاها: [21326, 22142, 22144]\n",
            "فاکتور 558006: 1 کالا خریداری شده\n",
            "   نمونه کالاها: [21686]\n",
            "فاکتور 546915: 19 کالا خریداری شده\n",
            "   نمونه کالاها: [21136, 22147, 22148]\n",
            "فاکتور 550290: 21 کالا خریداری شده\n",
            "   نمونه کالاها: [20829, 21232, 22303]\n",
            "فاکتور 575754: 17 کالا خریداری شده\n",
            "   نمونه کالاها: [20726, 21928, 22086]\n"
          ]
        }
      ]
    },
    {
      "cell_type": "code",
      "source": [],
      "metadata": {
        "id": "bYJZyG1Tr5Ar"
      },
      "execution_count": null,
      "outputs": []
    }
  ]
}