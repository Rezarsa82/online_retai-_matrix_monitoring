{
  "nbformat": 4,
  "nbformat_minor": 0,
  "metadata": {
    "colab": {
      "provenance": [],
      "authorship_tag": "ABX9TyONMdcI5TNg6frQfgeb1C9L",
      "include_colab_link": true
    },
    "kernelspec": {
      "name": "python3",
      "display_name": "Python 3"
    },
    "language_info": {
      "name": "python"
    }
  },
  "cells": [
    {
      "cell_type": "markdown",
      "metadata": {
        "id": "view-in-github",
        "colab_type": "text"
      },
      "source": [
        "<a href=\"https://colab.research.google.com/github/Rezarsa82/online_retai-_matrix_monitoring/blob/main/matrix_monitoring.ipynb\" target=\"_parent\"><img src=\"https://colab.research.google.com/assets/colab-badge.svg\" alt=\"Open In Colab\"/></a>"
      ]
    },
    {
      "cell_type": "code",
      "source": [
        "import pandas as pd\n",
        "import zipfile\n",
        "import requests\n",
        "from io import BytesIO\n",
        "\n",
        "url = \"https://archive.ics.uci.edu/static/public/352/online+retail.zip\"\n",
        "\n",
        "r = requests.get(url)\n",
        "zip_file = zipfile.ZipFile(BytesIO(r.content))\n",
        "\n",
        "print(zip_file.namelist())  # ['Online Retail.xlsx']\n",
        "\n",
        "excel_file = zip_file.open(\"Online Retail.xlsx\")\n",
        "df = pd.read_excel(excel_file)\n",
        "\n",
        "print(df.columns)\n",
        "print(df.head())\n"
      ],
      "metadata": {
        "colab": {
          "base_uri": "https://localhost:8080/"
        },
        "id": "gm4ZMoschEQX",
        "outputId": "b6a2865f-3246-400f-f36b-a720116b2112"
      },
      "execution_count": 36,
      "outputs": [
        {
          "output_type": "stream",
          "name": "stdout",
          "text": [
            "['Online Retail.xlsx']\n",
            "Index(['InvoiceNo', 'StockCode', 'Description', 'Quantity', 'InvoiceDate',\n",
            "       'UnitPrice', 'CustomerID', 'Country'],\n",
            "      dtype='object')\n",
            "  InvoiceNo StockCode                          Description  Quantity  \\\n",
            "0    536365    85123A   WHITE HANGING HEART T-LIGHT HOLDER         6   \n",
            "1    536365     71053                  WHITE METAL LANTERN         6   \n",
            "2    536365    84406B       CREAM CUPID HEARTS COAT HANGER         8   \n",
            "3    536365    84029G  KNITTED UNION FLAG HOT WATER BOTTLE         6   \n",
            "4    536365    84029E       RED WOOLLY HOTTIE WHITE HEART.         6   \n",
            "\n",
            "          InvoiceDate  UnitPrice  CustomerID         Country  \n",
            "0 2010-12-01 08:26:00       2.55     17850.0  United Kingdom  \n",
            "1 2010-12-01 08:26:00       3.39     17850.0  United Kingdom  \n",
            "2 2010-12-01 08:26:00       2.75     17850.0  United Kingdom  \n",
            "3 2010-12-01 08:26:00       3.39     17850.0  United Kingdom  \n",
            "4 2010-12-01 08:26:00       3.39     17850.0  United Kingdom  \n"
          ]
        }
      ]
    },
    {
      "cell_type": "code",
      "source": [
        "df = df.dropna()\n",
        "print(df.isna().sum())"
      ],
      "metadata": {
        "colab": {
          "base_uri": "https://localhost:8080/"
        },
        "id": "-XX3Kngiiqaw",
        "outputId": "839f03f7-af4c-4ce0-b6bd-28a64523d862"
      },
      "execution_count": 41,
      "outputs": [
        {
          "output_type": "stream",
          "name": "stdout",
          "text": [
            "InvoiceNo      0\n",
            "StockCode      0\n",
            "Description    0\n",
            "Quantity       0\n",
            "InvoiceDate    0\n",
            "UnitPrice      0\n",
            "CustomerID     0\n",
            "Country        0\n",
            "dtype: int64\n",
            "InvoiceNo      0\n",
            "StockCode      0\n",
            "Description    0\n",
            "Quantity       0\n",
            "InvoiceDate    0\n",
            "UnitPrice      0\n",
            "CustomerID     0\n",
            "Country        0\n",
            "dtype: int64\n"
          ]
        }
      ]
    },
    {
      "cell_type": "code",
      "source": [
        "df = df[df[\"Quantity\"] > 0]\n",
        "print((df[\"Quantity\"] <= 0).sum())\n",
        "num_cancelled = df[df[\"InvoiceNo\"].astype(str).str.startswith(\"C\")].shape[0]\n",
        "print(\"تعداد فاکتورهای بازگشتی:\", num_cancelled)\n",
        "df_sorted = df.sort_values('InvoiceDate')"
      ],
      "metadata": {
        "colab": {
          "base_uri": "https://localhost:8080/"
        },
        "id": "eLDv2mEWjNq6",
        "outputId": "c76bff76-a8d8-4117-df46-3d2d547006d0"
      },
      "execution_count": 55,
      "outputs": [
        {
          "output_type": "stream",
          "name": "stdout",
          "text": [
            "0\n",
            "تعداد فاکتورهای بازگشتی: 0\n"
          ]
        }
      ]
    },
    {
      "cell_type": "code",
      "source": [
        "item_transaction_matrix = df_sorted.groupby(['InvoiceNo', 'StockCode'])['Quantity'].sum().unstack().fillna(0)\n",
        "\n",
        "item_transaction_matrix[item_transaction_matrix > 0] = 1\n",
        "\n",
        "print(item_transaction_matrix.head())"
      ],
      "metadata": {
        "colab": {
          "base_uri": "https://localhost:8080/"
        },
        "id": "X7d0xIs7jmZU",
        "outputId": "e4438fe0-42af-4809-a113-ccbe27b876aa"
      },
      "execution_count": 56,
      "outputs": [
        {
          "output_type": "stream",
          "name": "stdout",
          "text": [
            "StockCode  10002  10080  10120  10125  10133  10135  11001  15030  15034  \\\n",
            "InvoiceNo                                                                  \n",
            "536365       0.0    0.0    0.0    0.0    0.0    0.0    0.0    0.0    0.0   \n",
            "536366       0.0    0.0    0.0    0.0    0.0    0.0    0.0    0.0    0.0   \n",
            "536367       0.0    0.0    0.0    0.0    0.0    0.0    0.0    0.0    0.0   \n",
            "536368       0.0    0.0    0.0    0.0    0.0    0.0    0.0    0.0    0.0   \n",
            "536369       0.0    0.0    0.0    0.0    0.0    0.0    0.0    0.0    0.0   \n",
            "\n",
            "StockCode  15036  ...  90214V  90214W  90214Y  90214Z  BANK CHARGES   C2  DOT  \\\n",
            "InvoiceNo         ...                                                           \n",
            "536365       0.0  ...     0.0     0.0     0.0     0.0           0.0  0.0  0.0   \n",
            "536366       0.0  ...     0.0     0.0     0.0     0.0           0.0  0.0  0.0   \n",
            "536367       0.0  ...     0.0     0.0     0.0     0.0           0.0  0.0  0.0   \n",
            "536368       0.0  ...     0.0     0.0     0.0     0.0           0.0  0.0  0.0   \n",
            "536369       0.0  ...     0.0     0.0     0.0     0.0           0.0  0.0  0.0   \n",
            "\n",
            "StockCode    M  PADS  POST  \n",
            "InvoiceNo                   \n",
            "536365     0.0   0.0   0.0  \n",
            "536366     0.0   0.0   0.0  \n",
            "536367     0.0   0.0   0.0  \n",
            "536368     0.0   0.0   0.0  \n",
            "536369     0.0   0.0   0.0  \n",
            "\n",
            "[5 rows x 3665 columns]\n"
          ]
        }
      ]
    },
    {
      "cell_type": "code",
      "source": [
        "import random\n",
        "\n",
        "random_invoices = random.sample(list(item_transaction_matrix.index), 5)\n",
        "\n",
        "for invoice in random_invoices:\n",
        "    purchased_items = item_transaction_matrix.loc[invoice][item_transaction_matrix.loc[invoice] == 1]\n",
        "    print(f\"فاکتور {invoice}: {len(purchased_items)} کالا خریداری شده\")\n",
        "    if len(purchased_items) > 0:\n",
        "        print(f\"   نمونه کالاها: {list(purchased_items.index[:3])}\")"
      ],
      "metadata": {
        "colab": {
          "base_uri": "https://localhost:8080/"
        },
        "id": "CXT7PAB5mqXk",
        "outputId": "8b417116-b2c5-4feb-8402-f9d8675705cc"
      },
      "execution_count": 57,
      "outputs": [
        {
          "output_type": "stream",
          "name": "stdout",
          "text": [
            "فاکتور 568919: 32 کالا خریداری شده\n",
            "   نمونه کالاها: [20725, 20726, 20728]\n",
            "فاکتور 561800: 8 کالا خریداری شده\n",
            "   نمونه کالاها: [21928, 21929, 22411]\n",
            "فاکتور 578015: 10 کالا خریداری شده\n",
            "   نمونه کالاها: [22086, 22573, 22574]\n",
            "فاکتور 547516: 2 کالا خریداری شده\n",
            "   نمونه کالاها: [22423, 22457]\n",
            "فاکتور 544096: 7 کالا خریداری شده\n",
            "   نمونه کالاها: [21586, 21621, 21878]\n"
          ]
        }
      ]
    },
    {
      "cell_type": "code",
      "source": [
        "batch_size = 1000\n",
        "batches = []\n",
        "\n",
        "for i in range(0, len(item_transaction_matrix), batch_size):\n",
        "    batch_matrix = item_transaction_matrix.iloc[i:i+batch_size]\n",
        "    batches.append(batch_matrix)\n",
        "\n",
        "print(f\"\\nTotal Batches: {len(batches)}\")\n",
        "print(f\"First Batch Shape: {batches[0]}\")"
      ],
      "metadata": {
        "colab": {
          "base_uri": "https://localhost:8080/"
        },
        "id": "bYJZyG1Tr5Ar",
        "outputId": "5edfe2a8-3226-4a3c-d181-4be56bed7b90"
      },
      "execution_count": 60,
      "outputs": [
        {
          "output_type": "stream",
          "name": "stdout",
          "text": [
            "\n",
            "Total Batches: 19\n",
            "First Batch Shape: StockCode  10002  10080  10120  10125  10133  10135  11001  15030  15034  \\\n",
            "InvoiceNo                                                                  \n",
            "536365       0.0    0.0    0.0    0.0    0.0    0.0    0.0    0.0    0.0   \n",
            "536366       0.0    0.0    0.0    0.0    0.0    0.0    0.0    0.0    0.0   \n",
            "536367       0.0    0.0    0.0    0.0    0.0    0.0    0.0    0.0    0.0   \n",
            "536368       0.0    0.0    0.0    0.0    0.0    0.0    0.0    0.0    0.0   \n",
            "536369       0.0    0.0    0.0    0.0    0.0    0.0    0.0    0.0    0.0   \n",
            "...          ...    ...    ...    ...    ...    ...    ...    ...    ...   \n",
            "538830       0.0    0.0    0.0    0.0    0.0    0.0    0.0    0.0    0.0   \n",
            "538831       0.0    0.0    0.0    0.0    0.0    0.0    0.0    0.0    0.0   \n",
            "538832       0.0    0.0    0.0    0.0    0.0    0.0    0.0    0.0    0.0   \n",
            "538836       0.0    0.0    0.0    0.0    0.0    0.0    0.0    0.0    0.0   \n",
            "538839       0.0    0.0    0.0    0.0    0.0    0.0    0.0    0.0    0.0   \n",
            "\n",
            "StockCode  15036  ...  90214V  90214W  90214Y  90214Z  BANK CHARGES   C2  DOT  \\\n",
            "InvoiceNo         ...                                                           \n",
            "536365       0.0  ...     0.0     0.0     0.0     0.0           0.0  0.0  0.0   \n",
            "536366       0.0  ...     0.0     0.0     0.0     0.0           0.0  0.0  0.0   \n",
            "536367       0.0  ...     0.0     0.0     0.0     0.0           0.0  0.0  0.0   \n",
            "536368       0.0  ...     0.0     0.0     0.0     0.0           0.0  0.0  0.0   \n",
            "536369       0.0  ...     0.0     0.0     0.0     0.0           0.0  0.0  0.0   \n",
            "...          ...  ...     ...     ...     ...     ...           ...  ...  ...   \n",
            "538830       0.0  ...     0.0     0.0     0.0     0.0           0.0  0.0  0.0   \n",
            "538831       0.0  ...     0.0     0.0     0.0     0.0           0.0  0.0  0.0   \n",
            "538832       0.0  ...     0.0     0.0     0.0     0.0           0.0  0.0  0.0   \n",
            "538836       0.0  ...     0.0     0.0     0.0     0.0           0.0  0.0  0.0   \n",
            "538839       0.0  ...     0.0     0.0     0.0     0.0           0.0  0.0  0.0   \n",
            "\n",
            "StockCode    M  PADS  POST  \n",
            "InvoiceNo                   \n",
            "536365     0.0   0.0   0.0  \n",
            "536366     0.0   0.0   0.0  \n",
            "536367     0.0   0.0   0.0  \n",
            "536368     0.0   0.0   0.0  \n",
            "536369     0.0   0.0   0.0  \n",
            "...        ...   ...   ...  \n",
            "538830     0.0   0.0   0.0  \n",
            "538831     0.0   0.0   0.0  \n",
            "538832     0.0   0.0   0.0  \n",
            "538836     0.0   0.0   0.0  \n",
            "538839     0.0   0.0   0.0  \n",
            "\n",
            "[1000 rows x 3665 columns]\n"
          ]
        }
      ]
    },
    {
      "cell_type": "code",
      "source": [
        "first_batch = batches[0]\n",
        "first_customer = first_batch.iloc[0]\n",
        "items_bought = first_customer[first_customer == 1].index.tolist()\n",
        "\n",
        "print(\"دسته اول، نفر اول خریداری کرده کالاها:\")\n",
        "print(items_bought)"
      ],
      "metadata": {
        "colab": {
          "base_uri": "https://localhost:8080/"
        },
        "id": "a34opirOvjre",
        "outputId": "3aee61a6-cef0-4fa0-bd53-324305d5d2f7"
      },
      "execution_count": 61,
      "outputs": [
        {
          "output_type": "stream",
          "name": "stdout",
          "text": [
            "دسته اول، نفر اول خریداری کرده کالاها:\n",
            "[21730, 22752, 71053, '84029E', '84029G', '84406B', '85123A']\n"
          ]
        }
      ]
    },
    {
      "cell_type": "code",
      "source": [
        "import numpy as np\n",
        "import pandas as pd\n",
        "from scipy import linalg\n",
        "\n",
        "class RandomGaussianProjection:\n",
        "    def __init__(self, n_components='auto', eps=0.1, random_state=None):\n",
        "        self.n_components = n_components\n",
        "        self.eps = eps\n",
        "        self.random_state = random_state\n",
        "        self.components_ = None\n",
        "        self.n_components_ = None\n",
        "        self.n_features_ = None\n",
        "\n",
        "    def _calculate_n_components(self, n_features):\n",
        "        if self.n_components == 'auto':\n",
        "            if n_features <= 1:\n",
        "                return 1\n",
        "            n_components = int(4 * np.log(n_features) / (self.eps**2 / 2 - self.eps**3 / 3))\n",
        "            self.n_components_ = max(1, min(n_components, n_features))\n",
        "        else:\n",
        "            self.n_components_ = min(self.n_components, n_features)\n",
        "        return self.n_components_\n",
        "\n",
        "    def _generate_random_matrix(self, n_features):\n",
        "        rng = np.random.RandomState(self.random_state)\n",
        "\n",
        "        n_components = self._calculate_n_components(n_features)\n",
        "        self.components_ = rng.normal(\n",
        "            loc=0,\n",
        "            scale=1/np.sqrt(n_components),\n",
        "            size=(n_components, n_features)\n",
        "        )\n",
        "        return self.components_\n",
        "\n",
        "    def fit(self, X):\n",
        "        if X is None or len(X) == 0:\n",
        "            raise ValueError(\"X cannot be None or empty\")\n",
        "\n",
        "        if isinstance(X, pd.DataFrame):\n",
        "            X = X.values\n",
        "        elif not isinstance(X, np.ndarray):\n",
        "            X = np.array(X)\n",
        "\n",
        "        n_samples, self.n_features_ = X.shape\n",
        "\n",
        "        if self.n_features_ <= 1:\n",
        "            raise ValueError(\"X must have at least 2 features\")\n",
        "\n",
        "        self._generate_random_matrix(self.n_features_)\n",
        "        return self\n",
        "\n",
        "    def transform(self, X):\n",
        "        if self.components_ is None:\n",
        "            raise ValueError(\"Model must be fitted before transformation\")\n",
        "\n",
        "        if isinstance(X, pd.DataFrame):\n",
        "            X = X.values\n",
        "        elif not isinstance(X, np.ndarray):\n",
        "            X = np.array(X)\n",
        "\n",
        "        if X.shape[1] != self.components_.shape[1]:\n",
        "            raise ValueError(f\"Input has {X.shape[1]} features, but model was fitted with {self.components_.shape[1]} features\")\n",
        "\n",
        "        return X @ self.components_.T\n",
        "\n",
        "    def fit_transform(self, X):\n",
        "        self.fit(X)\n",
        "        return self.transform(X)\n",
        "\n",
        "    def inverse_transform(self, X_transformed):\n",
        "        if self.components_ is None:\n",
        "            raise ValueError(\"Model must be fitted before inverse transformation\")\n",
        "\n",
        "        components_pinv = linalg.pinv(self.components_)\n",
        "        return X_transformed @ components_pinv.T\n",
        "\n",
        "    def reconstruction_error(self, X):\n",
        "        X_transformed = self.transform(X)\n",
        "        X_reconstructed = self.inverse_transform(X_transformed)\n",
        "        return np.mean((X - X_reconstructed) ** 2)\n",
        "\n",
        "    def __repr__(self):\n",
        "        return f\"RandomGaussianProjection(n_components={self.n_components_})\""
      ],
      "metadata": {
        "id": "j97GT7w2v_bf"
      },
      "execution_count": 64,
      "outputs": []
    },
    {
      "cell_type": "code",
      "source": [
        "rgp = RandomGaussianProjection(n_components=3, random_state=42)\n",
        "transformed = rgp.fit_transform(first_batch)\n",
        "print(f\"Success! Reduced from {first_batch.shape} to {transformed.shape}\")\n",
        "print(f\"Components shape: {rgp.components_.shape}\")\n",
        "reconstructed = rgp.inverse_transform(transformed)\n",
        "print(f\"Reconstruction works: {reconstructed.shape == first_batch.shape}\")"
      ],
      "metadata": {
        "colab": {
          "base_uri": "https://localhost:8080/"
        },
        "id": "SonWgTiS9JZk",
        "outputId": "c9866758-3207-4455-bd41-aac75eaeec14"
      },
      "execution_count": 66,
      "outputs": [
        {
          "output_type": "stream",
          "name": "stdout",
          "text": [
            "Success! Reduced from (1000, 3665) to (1000, 3)\n",
            "Components shape: (3, 3665)\n",
            "Reconstruction works: True\n"
          ]
        }
      ]
    },
    {
      "cell_type": "code",
      "source": [],
      "metadata": {
        "id": "qbqu1AVp9OCp"
      },
      "execution_count": null,
      "outputs": []
    }
  ]
}